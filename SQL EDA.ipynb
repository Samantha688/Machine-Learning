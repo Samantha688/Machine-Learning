{
 "cells": [
  {
   "cell_type": "code",
   "execution_count": null,
   "id": "bcdbab5c-f693-4d48-be4d-b4dc80e348fd",
   "metadata": {},
   "outputs": [],
   "source": [
    "import pandas as pd\n",
    "df = pd.read_csv(\"Spacex.csv\")\n",
    "df.to_sql(\"SPACEXTBL\", con, if_exists='replace', index=False,method=\"multi\")\n",
    "df.head()"
   ]
  },
  {
   "cell_type": "code",
   "execution_count": null,
   "id": "5d4569da-09a5-4286-8d68-eeab4527490f",
   "metadata": {},
   "outputs": [],
   "source": [
    "#DROP THE TABLE IF EXISTS\n",
    "\n",
    "%sql DROP TABLE IF EXISTS SPACEXTABLE;"
   ]
  },
  {
   "cell_type": "code",
   "execution_count": null,
   "id": "f32b1da0-1579-41ce-88b5-61470f82dece",
   "metadata": {},
   "outputs": [],
   "source": [
    "%sql create table SPACEXTABLE as select * from SPACEXTBL where Date is not null"
   ]
  },
  {
   "cell_type": "code",
   "execution_count": null,
   "id": "27188a42-506a-4784-b73f-57031ce577a0",
   "metadata": {},
   "outputs": [],
   "source": [
    "%sql SELECT DISTINCT Launch_Site FROM SPACEXTABLE"
   ]
  },
  {
   "cell_type": "code",
   "execution_count": null,
   "id": "8bb6339f-6317-4f58-a378-f4144392ee2f",
   "metadata": {},
   "outputs": [],
   "source": [
    "%sql SELECT * FROM SPACEXTABLE WHERE Launch_Site like \"CCA%\" LIMIT 5"
   ]
  },
  {
   "cell_type": "code",
   "execution_count": null,
   "id": "bb803b34-7b7a-4108-8307-995539dc4171",
   "metadata": {},
   "outputs": [],
   "source": [
    "%sql SELECT SUM(PAYLOAD_MASS__KG_) AS Total_Payload_Mass FROM SPACEXTABLE WHERE Customer = \"NASA (CRS)\""
   ]
  },
  {
   "cell_type": "code",
   "execution_count": null,
   "id": "3fd30653-ca65-45ea-a0dd-5e1be10cd2aa",
   "metadata": {},
   "outputs": [],
   "source": [
    "%sql SELECT AVG(PAYLOAD_MASS__KG_) AS Average_Payload_Mass FROM SPACEXTABLE WHERE Booster_Version like \"F9 v1.1%\""
   ]
  },
  {
   "cell_type": "code",
   "execution_count": null,
   "id": "5909a790-1d9c-443a-9a4b-190099cd1a23",
   "metadata": {},
   "outputs": [],
   "source": [
    "%sql SELECT DISTINCT Landing_Outcome FROM SPACEXTABLE\n",
    "%sql SELECT Min(Date) AS First_date FROM SPACEXTABLE WHERE Landing_Outcome = \"Success (ground pad)\""
   ]
  },
  {
   "cell_type": "code",
   "execution_count": null,
   "id": "57e8ac82-f0dc-4f65-a1a4-d0fd5ef2faeb",
   "metadata": {},
   "outputs": [],
   "source": [
    "%sql SELECT Payload FROM SPACEXTABLE WHERE Landing_Outcome = \"Success (drone ship)\" AND (PAYLOAD_MASS__KG_) > 400 AND (PAYLOAD_MASS__KG_) <6000  "
   ]
  }
 ],
 "metadata": {
  "kernelspec": {
   "display_name": "Python 3 (ipykernel)",
   "language": "python",
   "name": "python3"
  },
  "language_info": {
   "codemirror_mode": {
    "name": "ipython",
    "version": 3
   },
   "file_extension": ".py",
   "mimetype": "text/x-python",
   "name": "python",
   "nbconvert_exporter": "python",
   "pygments_lexer": "ipython3",
   "version": "3.12.4"
  }
 },
 "nbformat": 4,
 "nbformat_minor": 5
}
