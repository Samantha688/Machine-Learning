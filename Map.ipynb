{
 "cells": [
  {
   "cell_type": "code",
   "execution_count": null,
   "id": "cb326e4e-0bdf-4265-b7e1-1ec8273ad7f8",
   "metadata": {},
   "outputs": [],
   "source": [
    "import folium\n",
    "import pandas as pd\n",
    "from folium.plugins import MarkerCluster\n",
    "from folium.plugins import MousePosition\n",
    "from folium.features import DivIcon\n",
    "spacex_df=pd.read_csv(spacex_csv_file)"
   ]
  },
  {
   "cell_type": "code",
   "execution_count": null,
   "id": "fad856c6-c117-4ab5-b4a1-61d053877a9f",
   "metadata": {},
   "outputs": [],
   "source": [
    "spacex_df = spacex_df[['Launch Site', 'Lat', 'Long', 'class']]\n",
    "launch_sites_df = spacex_df.groupby(['Launch Site'], as_index=False).first()\n",
    "launch_sites_df = launch_sites_df[['Launch Site', 'Lat', 'Long']]\n",
    "launch_sites_df\n",
    "\n",
    "ccfas_lc_40 = [28.562302, -80.577356]\n",
    "ccfas_slc_40 = [28.563197, -80.576820]\n",
    "ksc_lc_39a = [28.573255, -80.646895]\n",
    "vafb_slc_4e = [34.632834, -120.610745]\n",
    "    "
   ]
  },
  {
   "cell_type": "code",
   "execution_count": null,
   "id": "16ab9f82-70af-4253-9729-a383b8d18a3b",
   "metadata": {},
   "outputs": [],
   "source": [
    "# Initial the map\n",
    "nasa_coordinate = [29.559684888503615, -95.0830971930759]\n",
    "site_map = folium.Map(location=nasa_coordinate, zoom_start=5)\n",
    "\n",
    "# For each launch site, add a Circle object based on its coordinate (Lat, Long) values. In addition, add Launch site name as a popup label\n",
    "circle = folium.Circle(location = ccfas_lc_40, radius=1000, color='#d35400', fill=True).add_child(folium.Popup('ccfas_lc_40'))\n",
    "circle2 = folium.Circle(location = ccfas_slc_40, radius=1000, color='#d35400', fill=True).add_child(folium.Popup('ccfas_slc_40'))\n",
    "circle3 = folium.Circle(location = ksc_lc_39a ,radius=1000, color='#d35400', fill=True).add_child(folium.Popup('ksc_lc_39a'))\n",
    "circle4 = folium.Circle(location = vafb_slc_4e ,radius=1000, color='#d35400', fill=True).add_child(folium.Popup('vafb_slc_4e'))\n",
    "\n",
    "marker4 = folium.map.Marker(\n",
    "    vafb_slc_4e,\n",
    "    # Create an icon as a text label\n",
    "    icon=DivIcon(\n",
    "        icon_size=(20,20),\n",
    "        icon_anchor=(0,0),\n",
    "        html='<div style=\"font-size: 12; color:#d35400;\"><b>%s</b></div>' % 'VAFB_SLC_4E',\n",
    "        )\n",
    "    )\n",
    "marker3 = folium.map.Marker(\n",
    "    ksc_lc_39a,\n",
    "    # Create an icon as a text label\n",
    "    icon=DivIcon(\n",
    "        icon_size=(20,20),\n",
    "        icon_anchor=(0,0),\n",
    "        html='<div style=\"font-size: 12; color:#d35400;\"><b>%s</b></div>' % 'KSC_LC_39A',\n",
    "        )\n",
    "    )\n",
    "\n",
    "marker2 = folium.map.Marker(\n",
    "    ccfas_slc_40,\n",
    "    # Create an icon as a text label\n",
    "    icon=DivIcon(\n",
    "        icon_size=(20,20),\n",
    "        icon_anchor=(0,0),\n",
    "        html='<div style=\"font-size: 12; color:#d35400;\"><b>%s</b></div>' % 'CCFAS_SLC_40',\n",
    "        )\n",
    "    )\n",
    "circle = folium.Circle(location = ccfas_lc_40, radius=1000, color='#d35400', fill=True).add_child(folium.Popup('ccfas_lc_40'))\n",
    "\n",
    "marker = folium.map.Marker(\n",
    "    ccfas_lc_40,\n",
    "    # Create an icon as a text label\n",
    "    icon=DivIcon(\n",
    "        icon_size=(20,20),\n",
    "        icon_anchor=(0,0),\n",
    "        html='<div style=\"font-size: 12; color:#d35400;\"><b>%s</b></div>' % 'CCFAS_LC_40',\n",
    "        )\n",
    "    )\n",
    "\n",
    "site_map.add_child(circle)\n",
    "site_map.add_child(marker)\n",
    "\n",
    "site_map.add_child(circle2)\n",
    "site_map.add_child(marker2)\n",
    " \n",
    "site_map.add_child(circle3)\n",
    "site_map.add_child(marker3)\n",
    "\n",
    "site_map.add_child(circle4)\n",
    "site_map.add_child(marker4)\n",
    "\n",
    "site_map"
   ]
  },
  {
   "cell_type": "code",
   "execution_count": null,
   "id": "6b90dd26-6c53-4bb2-8b0b-23ad4ef14543",
   "metadata": {},
   "outputs": [],
   "source": [
    "marker_cluster = MarkerCluster()"
   ]
  },
  {
   "cell_type": "code",
   "execution_count": null,
   "id": "47cedd23-297c-484b-86af-24880e716434",
   "metadata": {},
   "outputs": [],
   "source": [
    "import numpy as np\n",
    "spacex_df[\"marker_color\"] = np.where(spacex_df['class'] == 1, \"green\", \"red\")\n",
    "spacex_df.head()\n",
    "site_map\n",
    "\n",
    "site_map.add_child(marker_cluster)\n",
    "\n",
    "for index, record in spacex_df.iterrows():\n",
    "    marker = folium.Marker(location = [record[\"Lat\"],record[\"Long\"]], icon=folium.Icon(color='white', icon_color=record['marker_color']))\n",
    "    marker_cluster.add_child(marker)\n",
    "site_map"
   ]
  },
  {
   "cell_type": "code",
   "execution_count": null,
   "id": "9f337153-e33d-4105-8ec4-b1487ca1a881",
   "metadata": {},
   "outputs": [],
   "source": [
    "formatter = \"function(num) {return L.Util.formatNum(num, 5);};\"\n",
    "mouse_position = MousePosition(\n",
    "    position='topright',\n",
    "    separator=' Long: ',\n",
    "    empty_string='NaN',\n",
    "    lng_first=False,\n",
    "    num_digits=20,\n",
    "    prefix='Lat:',\n",
    "    lat_formatter=formatter,\n",
    "    lng_formatter=formatter,\n",
    ")\n",
    "\n",
    "site_map.add_child(mouse_position)\n",
    "site_map"
   ]
  }
 ],
 "metadata": {
  "kernelspec": {
   "display_name": "Python 3 (ipykernel)",
   "language": "python",
   "name": "python3"
  },
  "language_info": {
   "codemirror_mode": {
    "name": "ipython",
    "version": 3
   },
   "file_extension": ".py",
   "mimetype": "text/x-python",
   "name": "python",
   "nbconvert_exporter": "python",
   "pygments_lexer": "ipython3",
   "version": "3.12.4"
  }
 },
 "nbformat": 4,
 "nbformat_minor": 5
}
