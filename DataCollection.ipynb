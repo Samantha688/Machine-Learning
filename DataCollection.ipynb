{
 "cells": [
  {
   "cell_type": "code",
   "execution_count": null,
   "id": "dfedffa2-b93f-4eef-b028-d77b2bbf5209",
   "metadata": {},
   "outputs": [],
   "source": [
    "import requests\n",
    "import pandas as pd\n",
    "import numpy as np\n",
    "import datetime\n",
    "\n",
    "pd.set_option('display.max_columns', None)\n",
    "pd.set_option('display.max_colwidth', None)"
   ]
  },
  {
   "cell_type": "code",
   "execution_count": null,
   "id": "a61a12f7-20a9-478d-9b0d-fc8fa0d152b2",
   "metadata": {},
   "outputs": [],
   "source": [
    "def getBoosterVersion(data):\n",
    "    for x in data['rocket']:\n",
    "       if x:\n",
    "        response = requests.get(\"https://api.spacexdata.com/v4/rockets/\"+str(x)).json()\n",
    "        BoosterVersion.append(response['name'])"
   ]
  },
  {
   "cell_type": "code",
   "execution_count": null,
   "id": "c9b45119-6db5-4563-9185-5f544a75db6e",
   "metadata": {},
   "outputs": [],
   "source": [
    "def getLaunchSite(data):\n",
    "    for x in data['launchpad']:\n",
    "       if x:\n",
    "         response = requests.get(\"https://api.spacexdata.com/v4/launchpads/\"+str(x)).json()\n",
    "         Longitude.append(response['longitude'])\n",
    "         Latitude.append(response['latitude'])\n",
    "         LaunchSite.append(response['name'])"
   ]
  },
  {
   "cell_type": "code",
   "execution_count": null,
   "id": "ea36d30e-38c0-445a-9735-04be45ea01e4",
   "metadata": {},
   "outputs": [],
   "source": [
    "def getPayloadData(data):\n",
    "    for load in data['payloads']:\n",
    "       if load:\n",
    "        response = requests.get(\"https://api.spacexdata.com/v4/payloads/\"+load).json()\n",
    "        PayloadMass.append(response['mass_kg'])\n",
    "        Orbit.append(response['orbit'])"
   ]
  },
  {
   "cell_type": "code",
   "execution_count": null,
   "id": "f99b7dc4-5475-441e-a7bd-ec49b99a7ac0",
   "metadata": {},
   "outputs": [],
   "source": [
    "def getCoreData(data):\n",
    "    for core in data['cores']:\n",
    "            if core['core'] != None:\n",
    "                response = requests.get(\"https://api.spacexdata.com/v4/cores/\"+core['core']).json()\n",
    "                Block.append(response['block'])\n",
    "                ReusedCount.append(response['reuse_count'])\n",
    "                Serial.append(response['serial'])\n",
    "            else:\n",
    "                Block.append(None)\n",
    "                ReusedCount.append(None)\n",
    "                Serial.append(None)\n",
    "            Outcome.append(str(core['landing_success'])+' '+str(core['landing_type']))\n",
    "            Flights.append(core['flight'])\n",
    "            GridFins.append(core['gridfins'])\n",
    "            Reused.append(core['reused'])\n",
    "            Legs.append(core['legs'])\n",
    "            LandingPad.append(core['landpad'])"
   ]
  },
  {
   "cell_type": "code",
   "execution_count": null,
   "id": "ee64d136-f6d8-410d-8c8d-22f3a4513f6f",
   "metadata": {},
   "outputs": [],
   "source": [
    "spacex_url=\"https://api.spacexdata.com/v4/launches/past\"\n",
    "response = requests.get(spacex_url)\n",
    "response.status_code\n",
    "json = response.json()\n",
    "data = pd.json_normalize(json)"
   ]
  },
  {
   "cell_type": "code",
   "execution_count": null,
   "id": "434d8581-10d9-4aea-a937-78df8c69d807",
   "metadata": {},
   "outputs": [],
   "source": [
    "data = data[['rocket', 'payloads', 'launchpad', 'cores', 'flight_number', 'date_utc']]\n",
    "\n",
    "data = data[data['cores'].map(len)==1]\n",
    "data = data[data['payloads'].map(len)==1]\n",
    "\n",
    "data['cores'] = data['cores'].map(lambda x : x[0])\n",
    "data['payloads'] = data['payloads'].map(lambda x : x[0])\n",
    "\n",
    "data['date'] = pd.to_datetime(data['date_utc']).dt.date\n",
    "\n",
    "data = data[data['date'] <= datetime.date(2020, 11, 13)]\n"
   ]
  },
  {
   "cell_type": "code",
   "execution_count": null,
   "id": "b733d1de-6ede-4889-a1fd-8e9559187947",
   "metadata": {},
   "outputs": [],
   "source": [
    "#Global variables \n",
    "BoosterVersion = []\n",
    "PayloadMass = []\n",
    "Orbit = []\n",
    "LaunchSite = []\n",
    "Outcome = []\n",
    "Flights = []\n",
    "GridFins = []\n",
    "Reused = []\n",
    "Legs = []\n",
    "LandingPad = []\n",
    "Block = []\n",
    "ReusedCount = []\n",
    "Serial = []\n",
    "Longitude = []\n",
    "Latitude = []"
   ]
  },
  {
   "cell_type": "code",
   "execution_count": null,
   "id": "cd022baf-5ad4-4ff5-a817-d1cadaf2cad1",
   "metadata": {},
   "outputs": [],
   "source": [
    "getBoosterVersion(data)"
   ]
  },
  {
   "cell_type": "code",
   "execution_count": null,
   "id": "89c1485c-b526-4a3e-b110-83708c2ca1da",
   "metadata": {},
   "outputs": [],
   "source": [
    "getLaunchSite(data)"
   ]
  },
  {
   "cell_type": "code",
   "execution_count": null,
   "id": "43335476-815c-4bb9-a298-20f89ca997e8",
   "metadata": {},
   "outputs": [],
   "source": [
    "getPayloadData(data)"
   ]
  },
  {
   "cell_type": "code",
   "execution_count": null,
   "id": "1d9ae09a-f131-44f3-afe9-d44c853bfea1",
   "metadata": {},
   "outputs": [],
   "source": [
    "launch_dict = {'FlightNumber': list(data['flight_number']),\n",
    "'Date': list(data['date']),\n",
    "'BoosterVersion':BoosterVersion,\n",
    "'PayloadMass':PayloadMass,\n",
    "'Orbit':Orbit,\n",
    "'LaunchSite':LaunchSite,\n",
    "'Outcome':Outcome,\n",
    "'Flights':Flights,\n",
    "'GridFins':GridFins,\n",
    "'Reused':Reused,\n",
    "'Legs':Legs,\n",
    "'LandingPad':LandingPad,\n",
    "'Block':Block,\n",
    "'ReusedCount':ReusedCount,\n",
    "'Serial':Serial,\n",
    "'Longitude': Longitude,\n",
    "'Latitude': Latitude}\n"
   ]
  },
  {
   "cell_type": "code",
   "execution_count": null,
   "id": "cd64bb3a-eb50-44be-8aa1-0fc6f015873e",
   "metadata": {},
   "outputs": [],
   "source": [
    "df = pd.DataFrame.from_dict(launch_dict, orient='index')\n",
    "df_T = df.transpose()\n",
    "df_T.BoosterVersion.unique()\n",
    "df_T.head()"
   ]
  },
  {
   "cell_type": "code",
   "execution_count": null,
   "id": "7d5a09dc-b7bc-4bb1-a906-f621db190e26",
   "metadata": {},
   "outputs": [],
   "source": [
    "data_falcon9  = df_T[df_T['BoosterVersion'] == 'Falcon 9']\n",
    "data_falcon9.shape\n",
    "data_falcon9.loc[:,'FlightNumber'] = list(range(1, data_falcon9.shape[0]+1))"
   ]
  },
  {
   "cell_type": "code",
   "execution_count": null,
   "id": "43d98f54-f73c-410b-877c-085e294d2a28",
   "metadata": {},
   "outputs": [],
   "source": [
    "data_falcon9.isnull().sum()"
   ]
  },
  {
   "cell_type": "code",
   "execution_count": null,
   "id": "223b64fb-93c2-42d6-89da-694483bba1ff",
   "metadata": {},
   "outputs": [],
   "source": [
    "mean = data_falcon9.PayloadMass.mean()\n",
    "data_falcon9.PayloadMass.replace(np.nan, mean, inplace = True)\n",
    "# Replace the np.nan values with its mean value\n",
    "data_falcon9.info()"
   ]
  },
  {
   "cell_type": "code",
   "execution_count": null,
   "id": "e8724da2-aabd-4763-835d-657ef883ef98",
   "metadata": {},
   "outputs": [],
   "source": [
    "data_falcon9.to_csv('dataset_part_1.csv', index=False)"
   ]
  },
  {
   "cell_type": "code",
   "execution_count": null,
   "id": "66e2d710-9f97-41f6-9800-3ba3c0fc33ef",
   "metadata": {},
   "outputs": [],
   "source": [
    "import sys\n",
    "import requests\n",
    "from bs4 import BeautifulSoup\n",
    "import re\n",
    "import unicodedata\n",
    "import pandas as pd"
   ]
  },
  {
   "cell_type": "code",
   "execution_count": null,
   "id": "f4f566b0-cd9b-44a0-bac9-b03597fe4077",
   "metadata": {},
   "outputs": [],
   "source": [
    "def date_time(table_cells):\n",
    "    return [data_time.strip() for data_time in list(table_cells.strings)][0:2]\n",
    "\n",
    "def booster_version(table_cells):\n",
    "    out=''.join([booster_version for i,booster_version in enumerate( table_cells.strings) if i%2==0][0:-1])\n",
    "    return out\n",
    "\n",
    "def landing_status(table_cells):\n",
    "    out=[i for i in table_cells.strings][0]\n",
    "    return out\n",
    "\n",
    "\n",
    "def get_mass(table_cells):\n",
    "    mass=unicodedata.normalize(\"NFKD\", table_cells.text).strip()\n",
    "    if mass:\n",
    "        mass.find(\"kg\")\n",
    "        new_mass=mass[0:mass.find(\"kg\")+2]\n",
    "    else:\n",
    "        new_mass=0\n",
    "    return new_mass\n",
    "\n",
    "\n",
    "def extract_column_from_header(row):\n",
    "    if (row.br):\n",
    "        row.br.extract()\n",
    "    if row.a:\n",
    "        row.a.extract()\n",
    "    if row.sup:\n",
    "        row.sup.extract()\n",
    "        \n",
    "    colunm_name = ' '.join(row.contents)\n",
    "\n",
    "    if not(colunm_name.strip().isdigit()):\n",
    "        colunm_name = colunm_name.strip()\n",
    "        return colunm_name    \n"
   ]
  },
  {
   "cell_type": "code",
   "execution_count": null,
   "id": "6ec9df86-66ae-45fb-8292-2590d7a0f0a9",
   "metadata": {},
   "outputs": [],
   "source": [
    "static_url = \"https://en.wikipedia.org/w/index.php?title=List_of_Falcon_9_and_Falcon_Heavy_launches&oldid=1027686922\""
   ]
  },
  {
   "cell_type": "code",
   "execution_count": null,
   "id": "e3e56f3d-0ad7-4d0b-bf35-91f092a38a4d",
   "metadata": {},
   "outputs": [],
   "source": [
    "data = requests.get(static_url).text\n",
    "soup = BeautifulSoup(data, \"html.parser\")\n",
    "soup.title"
   ]
  },
  {
   "cell_type": "code",
   "execution_count": null,
   "id": "74044393-2877-4974-ad6b-5f6c8a6f7805",
   "metadata": {},
   "outputs": [],
   "source": [
    "html_tables = []\n",
    "html_tables = soup.find_all('table')\n",
    "first_launch_table = html_tables[2]\n",
    "column_names = []\n",
    "\n",
    "for row in first_launch_table.find_all(\"th\"):\n",
    "    name = extract_column_from_header(row)\n",
    "    if name != None and len(name) > 0:\n",
    "        column_names.append(name)\n"
   ]
  },
  {
   "cell_type": "code",
   "execution_count": null,
   "id": "c0085a6f-7fee-41c5-91d6-cdec0d2c99ab",
   "metadata": {},
   "outputs": [],
   "source": [
    "launch_dict= dict.fromkeys(column_names)\n",
    "\n",
    "del launch_dict['Date and time ( )']\n",
    "\n",
    "launch_dict['Flight No.'] = []\n",
    "launch_dict['Launch site'] = []\n",
    "launch_dict['Payload'] = []\n",
    "launch_dict['Payload mass'] = []\n",
    "launch_dict['Orbit'] = []\n",
    "launch_dict['Customer'] = []\n",
    "launch_dict['Launch outcome'] = []\n",
    "# Added some new columns\n",
    "launch_dict['Version Booster']=[]\n",
    "launch_dict['Booster landing']=[]\n",
    "launch_dict['Date']=[]\n",
    "launch_dict['Time']=[]"
   ]
  },
  {
   "cell_type": "code",
   "execution_count": null,
   "id": "f20e6a3d-1846-4da2-9ce2-14413c6fd54d",
   "metadata": {},
   "outputs": [],
   "source": [
    "extracted_row = 0\n",
    "for table_number,table in enumerate(soup.find_all('table',\"wikitable plainrowheaders collapsible\")):\n",
    "    for rows in table.find_all(\"tr\"):\n",
    "        if rows.th:\n",
    "            if rows.th.string:\n",
    "                flight_number=rows.th.string.strip()\n",
    "                flag=flight_number.isdigit()\n",
    "        else:\n",
    "            flag=False\n",
    "        row=rows.find_all('td')\n",
    "        if flag:\n",
    "            extracted_row += 1\n",
    "            launch_dict['Flight No.'].append(flight_number)\n",
    "            datatimelist=date_time(row[0])\n",
    "            launch_dict['Date'].append(date)\n",
    "            date = datatimelist[0].strip(',')\n",
    "\n",
    "            launch_dict['Time'].append(time)\n",
    "            time = datatimelist[1]\n",
    "            \n",
    "            launch_dict['Version Booster'].append(bv)\n",
    "            bv=booster_version(row[1])\n",
    "            if not(bv):\n",
    "                bv=row[1].a.string\n",
    "  \n",
    "            launch_dict['Launch site'].append(launch_site)\n",
    "            launch_site = row[2].a.string\n",
    "            \n",
    "            launch_dict['Payload'].append(payload)\n",
    "            payload = row[3].a.string\n",
    "            \n",
    "            launch_dict['Payload mass'].append(payload)\n",
    "            payload_mass = get_mass(row[4])\n",
    "            \n",
    "            launch_dict['Orbit'].append(orbit)\n",
    "            orbit = row[5].a.string\n",
    "            \n",
    "            launch_dict['Customer'].append(customer)\n",
    "            customer = row[6].a.string\n",
    "   \n",
    "            launch_dict['Launch outcome'].append(launch_outcome)\n",
    "            launch_outcome = list(row[7].strings)[0]\n",
    " \n",
    "            launch_dict['Booster landing'].append(booster_landing)\n",
    "            booster_landing = landing_status(row[8])\n",
    "      "
   ]
  },
  {
   "cell_type": "code",
   "execution_count": null,
   "id": "c92cc1c4-9d3a-4a97-b198-15f59785c193",
   "metadata": {},
   "outputs": [],
   "source": [
    "df= pd.DataFrame({ key:pd.Series(value) for key, value in launch_dict.items() })"
   ]
  },
  {
   "cell_type": "code",
   "execution_count": null,
   "id": "f371e16e-e92e-4793-b352-da7e0a483cfa",
   "metadata": {},
   "outputs": [],
   "source": [
    "df.isnull().sum()/len(df)*100\n",
    "df.dtypes\n",
    "df.LaunchSite.value_counts()\n",
    "df.Orbit.value_counts()\n",
    "landing_outcomes = df.Outcome.value_counts()\n",
    "for i,outcome in enumerate(landing_outcomes.keys()):\n",
    "    print(i,outcome)\n",
    "bad_outcomes=set(landing_outcomes.keys()[[1,3,5,6,7]])\n",
    "landing_class = []\n",
    "for row in df.Outcome:\n",
    "    if row in bad_outcomes: \n",
    "        landing_class.append(0)\n",
    "    else:\n",
    "        landing_class.append(1)\n",
    "landing_class = landing_class\n",
    "df['Class']=landing_class\n",
    "df[['Class']].head(8)\n",
    "df[\"Class\"].mean()"
   ]
  }
 ],
 "metadata": {
  "kernelspec": {
   "display_name": "Python 3 (ipykernel)",
   "language": "python",
   "name": "python3"
  },
  "language_info": {
   "codemirror_mode": {
    "name": "ipython",
    "version": 3
   },
   "file_extension": ".py",
   "mimetype": "text/x-python",
   "name": "python",
   "nbconvert_exporter": "python",
   "pygments_lexer": "ipython3",
   "version": "3.12.4"
  }
 },
 "nbformat": 4,
 "nbformat_minor": 5
}
