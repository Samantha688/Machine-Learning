{
 "cells": [
  {
   "cell_type": "code",
   "execution_count": null,
   "id": "447f6970-2ebd-4b21-86a9-46a315bbb4b0",
   "metadata": {},
   "outputs": [],
   "source": [
    "import pandas as pd\n",
    "import numpy as np\n",
    "import matplotlib.pyplot as plt\n",
    "import seaborn as sns"
   ]
  },
  {
   "cell_type": "code",
   "execution_count": null,
   "id": "2705c28f-da59-40d9-8934-d244cb42f531",
   "metadata": {},
   "outputs": [],
   "source": [
    "df=pd.read_csv(\"dataset_part_2_csv\")\n",
    "df.head(5)"
   ]
  },
  {
   "cell_type": "code",
   "execution_count": null,
   "id": "3ac5e18f-eeb3-4911-8919-3301567b07bb",
   "metadata": {},
   "outputs": [],
   "source": [
    "sns.catplot(y=\"PayloadMass\", x=\"FlightNumber\", hue=\"Class\", data=df, aspect = 5)\n",
    "plt.xlabel(\"Flight Number\",fontsize=20)\n",
    "plt.ylabel(\"Pay load Mass (kg)\",fontsize=20)\n",
    "plt.show()"
   ]
  },
  {
   "cell_type": "code",
   "execution_count": null,
   "id": "8c760a22-0978-43fc-9f30-70a30a2e66d7",
   "metadata": {},
   "outputs": [],
   "source": [
    "sns.catplot(y=\"LaunchSite\", x=\"FlightNumber\", hue=\"Class\", data=df, aspect = 5)"
   ]
  },
  {
   "cell_type": "code",
   "execution_count": null,
   "id": "c306c7cf-bf72-4c1c-8276-accfa4c3f3b0",
   "metadata": {},
   "outputs": [],
   "source": [
    "sns.catplot(y=\"LaunchSite\", x=\"PayloadMass\", hue=\"Class\", data=df, aspect = 5)"
   ]
  },
  {
   "cell_type": "code",
   "execution_count": null,
   "id": "f1d84cd2-0923-4987-971d-3bf337d19080",
   "metadata": {},
   "outputs": [],
   "source": [
    "df_2 = df.groupby(\"Orbit\")[\"Class\"].mean().to_frame().reset_index()\n",
    "plt.bar(df_2[\"Orbit\"],df_2[\"Class\"], color ='maroon', width = 0.4)\n",
    "plt.title(\"Sucess rate vs orbit type\")\n",
    "plt.ylabel(\"Success rate\")\n",
    "plt.xlabel(\"Orbit\")"
   ]
  },
  {
   "cell_type": "code",
   "execution_count": null,
   "id": "0524a4f5-9e4b-43e0-9415-da3cb4b9310b",
   "metadata": {},
   "outputs": [],
   "source": [
    "sns.catplot(y=\"Orbit\", x=\"FlightNumber\", hue=\"Class\", data=df, aspect = 5)\n"
   ]
  }
 ],
 "metadata": {
  "kernelspec": {
   "display_name": "Python 3 (ipykernel)",
   "language": "python",
   "name": "python3"
  },
  "language_info": {
   "codemirror_mode": {
    "name": "ipython",
    "version": 3
   },
   "file_extension": ".py",
   "mimetype": "text/x-python",
   "name": "python",
   "nbconvert_exporter": "python",
   "pygments_lexer": "ipython3",
   "version": "3.12.4"
  }
 },
 "nbformat": 4,
 "nbformat_minor": 5
}
