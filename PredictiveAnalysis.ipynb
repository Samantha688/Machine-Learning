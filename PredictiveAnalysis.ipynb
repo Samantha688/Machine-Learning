{
 "cells": [
  {
   "cell_type": "code",
   "execution_count": null,
   "id": "1052e1ea-a303-4bc2-9a56-21c3a2a82d5d",
   "metadata": {},
   "outputs": [],
   "source": [
    "import pandas as pd\n",
    "import numpy as np\n",
    "import matplotlib.pyplot as plt\n",
    "import seaborn as sns\n",
    "from sklearn import preprocessing\n",
    "from sklearn.model_selection import train_test_split\n",
    "from sklearn.model_selection import GridSearchCV\n",
    "from sklearn.linear_model import LogisticRegression\n",
    "from sklearn.svm import SVC\n",
    "from sklearn.tree import DecisionTreeClassifier\n",
    "from sklearn.neighbors import KNeighborsClassifier"
   ]
  },
  {
   "cell_type": "code",
   "execution_count": null,
   "id": "5586633a-649e-4ff4-a289-bfd926ad3a32",
   "metadata": {},
   "outputs": [],
   "source": [
    "def plot_confusion_matrix(y,y_predict):\n",
    "    from sklearn.metrics import confusion_matrix\n",
    "    cm = confusion_matrix(y, y_predict)\n",
    "    ax= plt.subplot()\n",
    "    sns.heatmap(cm, annot=True, ax = ax); #annot=True to annotate cells\n",
    "    ax.set_xlabel('Predicted labels')\n",
    "    ax.set_ylabel('True labels')\n",
    "    ax.set_title('Confusion Matrix'); \n",
    "    ax.xaxis.set_ticklabels(['did not land', 'land']); ax.yaxis.set_ticklabels(['did not land', 'landed']) \n",
    "    plt.show() "
   ]
  },
  {
   "cell_type": "code",
   "execution_count": null,
   "id": "965e6b24-b4f4-4062-a0c0-ca3f6417aa14",
   "metadata": {},
   "outputs": [],
   "source": [
    "data = pd.read_csv(\"dataset_part_2.csv\")\n",
    "X = pd.read_csv(\"dataset_part_3.csv\")"
   ]
  },
  {
   "cell_type": "code",
   "execution_count": null,
   "id": "63e6610c-58dc-4c43-801b-9d772b81b654",
   "metadata": {},
   "outputs": [],
   "source": [
    "print(X.head())\n",
    "print(data.head())"
   ]
  },
  {
   "cell_type": "code",
   "execution_count": null,
   "id": "53390174-5991-4846-8745-eebf0ed8171c",
   "metadata": {},
   "outputs": [],
   "source": [
    "#preparing data for fitting into model\n",
    "Y = data['Class'].to_numpy() #creating numpy array using column \n",
    "scaler = preprocessing.StandardScaler()\n",
    "X = scaler.fit_transform(X) #standardise dataset X"
   ]
  },
  {
   "cell_type": "code",
   "execution_count": null,
   "id": "316d905d-3c4c-4257-9b84-43f374dbcc54",
   "metadata": {},
   "outputs": [],
   "source": [
    "X_train, X_test, Y_train, Y_test = train_test_split(X, Y, test_size = 0.2, random_state = 2)"
   ]
  },
  {
   "cell_type": "code",
   "execution_count": null,
   "id": "d20266f7-6546-4a6e-841b-ee7a38e8d4d9",
   "metadata": {},
   "outputs": [],
   "source": [
    "#using logistic regression to predict class \n",
    "#using GridSearchCV to look for best parameter\n",
    "parameters ={\"C\":[0.01,0.1,1],'penalty':['l2'], 'solver':['lbfgs']}# l1 lasso l2 ridge\n",
    "lr=LogisticRegression()\n",
    "logreg_cv = GridSearchCV(lr, param_grid=parameters, cv = 5)\n",
    "logreg_cv.fit(X_train, Y_train)"
   ]
  },
  {
   "cell_type": "code",
   "execution_count": null,
   "id": "42298605-74ee-4650-863e-3112be18933d",
   "metadata": {},
   "outputs": [],
   "source": [
    "print(\"tuned hpyerparameters :(best parameters) \",logreg_cv.best_params_)\n",
    "print(\"accuracy :\",logreg_cv.best_score_)\n",
    "print(\"Accuracy on test data:\", logreg_cv.score(X_test, Y_test))\n",
    "yhat=logreg_cv.predict(X_test)\n",
    "plot_confusion_matrix(Y_test,yhat)\n",
    "print(\"True Postive - 12 (True label is landed, Predicted label is also landed)\\nFalse Postive - 3 (True label is not landed, Predicted label is landed)\")"
   ]
  },
  {
   "cell_type": "code",
   "execution_count": null,
   "id": "6a635267-e62c-4a97-b3d1-4d009766cd1c",
   "metadata": {},
   "outputs": [],
   "source": [
    "parameters = {'kernel':('linear', 'rbf','poly','rbf', 'sigmoid'),\n",
    "              'C': np.logspace(-3, 3, 5),\n",
    "              'gamma':np.logspace(-3, 3, 5)}\n",
    "svm = SVC()\n",
    "svm_cv = GridSearchCV(svm, param_grid=parameters, cv = 10)\n",
    "svm_cv.fit(X_train, Y_train)"
   ]
  },
  {
   "cell_type": "code",
   "execution_count": null,
   "id": "92e97d90-1697-405c-9425-cd914d28f71f",
   "metadata": {},
   "outputs": [],
   "source": [
    "print(\"tuned hpyerparameters :(best parameters) \",svm_cv.best_params_)\n",
    "print(\"accuracy :\",svm_cv.best_score_)\n",
    "print(\"accuracy of test data:\",svm_cv.score(X_test, Y_test))\n",
    "yhat=svm_cv.predict(X_test)\n",
    "plot_confusion_matrix(Y_test,yhat)\n",
    "#print(\"True Postive - 12 (True label is landed, Predicted label is also landed)\\nFalse Postive - 3 (True label is not landed, Predicted label is landed)\")"
   ]
  },
  {
   "cell_type": "code",
   "execution_count": null,
   "id": "dd01869a-2ab6-4fbb-9f41-954e6e6d3899",
   "metadata": {},
   "outputs": [],
   "source": [
    "parameters = {'criterion': ['gini', 'entropy'],\n",
    "     'splitter': ['best', 'random'],\n",
    "     'max_depth': [2*n for n in range(1,10)],\n",
    "     'max_features': ['auto', 'sqrt'],\n",
    "     'min_samples_leaf': [1, 2, 4],\n",
    "     'min_samples_split': [2, 5, 10]}\n",
    "\n",
    "tree = DecisionTreeClassifier()\n",
    "tree_cv = GridSearchCV(tree, param_grid = parameters, cv = 10)\n",
    "tree_cv.fit(X_train, Y_train)"
   ]
  },
  {
   "cell_type": "code",
   "execution_count": null,
   "id": "79b229a9-b9db-46cc-8971-d48223f4ba0d",
   "metadata": {},
   "outputs": [],
   "source": [
    "print(\"tuned hpyerparameters :(best parameters) \",tree_cv.best_params_)\n",
    "print(\"accuracy :\",tree_cv.best_score_)\n",
    "print(\"accuracy of test data:\", tree_cv.score(X_test, Y_test))\n",
    "yhat = tree_cv.predict(X_test)\n",
    "plot_confusion_matrix(Y_test,yhat)\n",
    "#print(\"True Postive - 12 (True label is landed, Predicted label is also landed)\\nFalse Postive - 3 (True label is not landed, Predicted label is landed)\")"
   ]
  },
  {
   "cell_type": "code",
   "execution_count": null,
   "id": "4c525cb9-7d61-4caa-8a98-71fe50b3210f",
   "metadata": {},
   "outputs": [],
   "source": [
    "parameters = {'n_neighbors': [1, 2, 3, 4, 5, 6, 7, 8, 9, 10],\n",
    "              'algorithm': ['auto', 'ball_tree', 'kd_tree', 'brute'],\n",
    "              'p': [1,2]}\n",
    "\n",
    "KNN = KNeighborsClassifier()\n",
    "knn_cv = GridSearchCV(KNN, param_grid = parameters, cv = 10)\n",
    "knn_cv.fit(X_train, Y_train)"
   ]
  },
  {
   "cell_type": "code",
   "execution_count": null,
   "id": "ef35f6fa-9215-43f9-9478-a9d90121c19c",
   "metadata": {},
   "outputs": [],
   "source": [
    "print(\"tuned hpyerparameters :(best parameters) \",knn_cv.best_params_)\n",
    "print(\"accuracy :\",knn_cv.best_score_)\n",
    "print(\"accuracy of test data:\",knn_cv.score(X_test, Y_test))\n",
    "yhat = knn_cv.predict(X_test)\n",
    "plot_confusion_matrix(Y_test,yhat)"
   ]
  },
  {
   "cell_type": "code",
   "execution_count": null,
   "id": "14545ded-f31f-4cfa-9f76-5fabafd33d47",
   "metadata": {},
   "outputs": [],
   "source": [
    "#plotting bar chart on accuracy comparison of model\n",
    "X = [\"logistic regression\", \"support vector machine\", \"decision tree\",\"k nearest neighbour\"]\n",
    "Y = [0.8342857142857143, 0.8482142857142856, 0.9035714285714287, 0.8482142857142858]\n",
    "plt.bar(X, Y, color = \"brown\")\n",
    "plt.title(\"Accuracy of models\")\n",
    "plt.ylabel(\"Accuracy\")\n",
    "plt.xlabel(\"Models\")\n",
    "plt.xticks(rotation = 25)"
   ]
  }
 ],
 "metadata": {
  "kernelspec": {
   "display_name": "Python 3 (ipykernel)",
   "language": "python",
   "name": "python3"
  },
  "language_info": {
   "codemirror_mode": {
    "name": "ipython",
    "version": 3
   },
   "file_extension": ".py",
   "mimetype": "text/x-python",
   "name": "python",
   "nbconvert_exporter": "python",
   "pygments_lexer": "ipython3",
   "version": "3.12.4"
  }
 },
 "nbformat": 4,
 "nbformat_minor": 5
}
